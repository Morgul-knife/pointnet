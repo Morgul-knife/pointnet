{
 "cells": [
  {
   "cell_type": "code",
   "execution_count": null,
   "id": "d4825c1a",
   "metadata": {},
   "outputs": [
    {
     "name": "stderr",
     "output_type": "stream",
     "text": [
      "Cloning into 'Pointnet_Pointnet2_pytorch'...\n"
     ]
    }
   ],
   "source": [
    "#!git clone https://github.com/yanx27/Pointnet_Pointnet2_pytorch.git"
   ]
  },
  {
   "cell_type": "code",
   "execution_count": 1,
   "id": "8167c5e2",
   "metadata": {},
   "outputs": [],
   "source": [
    "import os\n",
    "import glob\n",
    "import matplotlib.pyplot as plt\n",
    "import numpy as np\n",
    "from importlib import reload\n",
    "\n",
    "import Pointnet_Pointnet2_pytorch.data_utils.S3DISDataLoader as S3DISDataLoader"
   ]
  },
  {
   "cell_type": "code",
   "execution_count": 97,
   "id": "abebd96a",
   "metadata": {},
   "outputs": [
    {
     "data": {
      "text/plain": [
       "<module 'Pointnet_Pointnet2_pytorch.data_utils.S3DISDataLoader' from 'd:\\\\PointNet\\\\Pointnet_Pointnet2_pytorch\\\\data_utils\\\\S3DISDataLoader.py'>"
      ]
     },
     "execution_count": 97,
     "metadata": {},
     "output_type": "execute_result"
    }
   ],
   "source": [
    "reload(S3DISDataLoader)"
   ]
  },
  {
   "cell_type": "code",
   "execution_count": 7,
   "id": "1246e8bd",
   "metadata": {},
   "outputs": [],
   "source": [
    "import math"
   ]
  },
  {
   "cell_type": "code",
   "execution_count": 10,
   "id": "98c095a5",
   "metadata": {},
   "outputs": [
    {
     "data": {
      "text/plain": [
       "11.309932474020215"
      ]
     },
     "execution_count": 10,
     "metadata": {},
     "output_type": "execute_result"
    }
   ],
   "source": [
    "math.degrees(math.atan(0.2))"
   ]
  },
  {
   "cell_type": "code",
   "execution_count": 138,
   "id": "33f38c03",
   "metadata": {},
   "outputs": [],
   "source": [
    "train_data_path = 'D:\\PointNet\\Pointnet_Pointnet2_pytorch\\data\\stanford_indoor3d'\n",
    "test_data_path = 'D:\\PointNet\\Pointnet_Pointnet2_pytorch\\data\\s3dis\\stanford_indoor3d'\n",
    "\n",
    "data_list = glob.glob(os.path.join(train_data_path ,'*.npy'))"
   ]
  },
  {
   "cell_type": "code",
   "execution_count": 143,
   "id": "b32e5695",
   "metadata": {},
   "outputs": [],
   "source": [
    "test_list = glob.glob(os.path.join('D:\\Git\\smpp-3D-model-comparator\\data' ,'*.npy'))"
   ]
  },
  {
   "cell_type": "code",
   "execution_count": 144,
   "id": "fd7dcf4e",
   "metadata": {},
   "outputs": [
    {
     "data": {
      "text/plain": [
       "['D:\\\\Git\\\\smpp-3D-model-comparator\\\\data\\\\RetainerBody_60-1810_1_1.npy',\n",
       " 'D:\\\\Git\\\\smpp-3D-model-comparator\\\\data\\\\RetainerBody_60-1810_1_2.npy',\n",
       " 'D:\\\\Git\\\\smpp-3D-model-comparator\\\\data\\\\RetainerBody_60-1810_1_3.npy',\n",
       " 'D:\\\\Git\\\\smpp-3D-model-comparator\\\\data\\\\RetainerBody_60-1810_1_4.npy',\n",
       " 'D:\\\\Git\\\\smpp-3D-model-comparator\\\\data\\\\RetainerBody_60-1810_1_5.npy',\n",
       " 'D:\\\\Git\\\\smpp-3D-model-comparator\\\\data\\\\RetainerBody_60-1810_1_6.npy']"
      ]
     },
     "execution_count": 144,
     "metadata": {},
     "output_type": "execute_result"
    }
   ],
   "source": [
    "test_list"
   ]
  },
  {
   "cell_type": "code",
   "execution_count": 145,
   "id": "52c56c48",
   "metadata": {},
   "outputs": [],
   "source": [
    "for path in test_list:\n",
    "    points = np.load(path)[:, 0:3]\n",
    "    colors = np.load(path)[:, 3:6] * 255\n",
    "    labels = np.reshape(np.load(path)[:, 9], (-1, 1))\n",
    "    model_ = np.hstack((points, colors, labels))\n",
    "    \n",
    "    name1, name2, area_num, file_num_and_extension = path.split('\\\\')[-1].split('_')\n",
    "\n",
    "    area_num = int(area_num) - 1\n",
    "\n",
    "    np.save(os.path.join(test_data_path, f'Area_{area_num}_{name1}_{name2}_{file_num_and_extension}'), model_)"
   ]
  },
  {
   "cell_type": "code",
   "execution_count": null,
   "id": "3e3bfe9f",
   "metadata": {},
   "outputs": [],
   "source": [
    "%cd Pointnet_Pointnet2_pytorch"
   ]
  },
  {
   "cell_type": "code",
   "execution_count": 77,
   "id": "c1fdad4b",
   "metadata": {},
   "outputs": [
    {
     "data": {
      "text/plain": [
       "'d:\\\\PointNet\\\\Pointnet_Pointnet2_pytorch'"
      ]
     },
     "execution_count": 77,
     "metadata": {},
     "output_type": "execute_result"
    }
   ],
   "source": [
    "os.getcwd()"
   ]
  },
  {
   "cell_type": "code",
   "execution_count": null,
   "id": "b6698263",
   "metadata": {},
   "outputs": [],
   "source": [
    "%run test_semseg.py --log_dir pointnet_sem_seg --test_area 0 --visual"
   ]
  },
  {
   "cell_type": "code",
   "execution_count": null,
   "id": "c278ca87",
   "metadata": {},
   "outputs": [],
   "source": [
    "%run train_semseg.py --model pointnet_sem_seg --test_area 5 --log_dir pointnet_sem_seg"
   ]
  },
  {
   "cell_type": "code",
   "execution_count": 46,
   "id": "0ede0a29",
   "metadata": {},
   "outputs": [
    {
     "name": "stderr",
     "output_type": "stream",
     "text": [
      "100%|██████████| 1588/1588 [00:01<00:00, 1500.34it/s]"
     ]
    },
    {
     "name": "stdout",
     "output_type": "stream",
     "text": [
      "[1.813728  1.4540046 1.4713267 1.4432642 1.3122352 1.4768057 1.7319907\n",
      " 1.        1.526718  1.4232261 1.5878552 1.154517  1.8941664 1.669416\n",
      " 1.3510072]\n",
      "Totally 1588 samples in train set.\n"
     ]
    },
    {
     "name": "stderr",
     "output_type": "stream",
     "text": [
      "\n"
     ]
    }
   ],
   "source": [
    "TRAIN_DATASET = S3DISDataLoader.S3DISDataset(split='train', data_root=train_data_path)"
   ]
  },
  {
   "cell_type": "code",
   "execution_count": null,
   "id": "1bd01982",
   "metadata": {},
   "outputs": [],
   "source": [
    "TEST_DATASET = S3DISDataLoader.ScannetDatasetWholeScene(root=test_data_path, split='test', test_area=1)"
   ]
  },
  {
   "cell_type": "code",
   "execution_count": 106,
   "id": "ae29202a",
   "metadata": {},
   "outputs": [
    {
     "data": {
      "text/plain": [
       "(4096,)"
      ]
     },
     "execution_count": 106,
     "metadata": {},
     "output_type": "execute_result"
    }
   ],
   "source": [
    "TEST_DATASET.__getitem__(0)[3].shape"
   ]
  }
 ],
 "metadata": {
  "kernelspec": {
   "display_name": "dls",
   "language": "python",
   "name": "python3"
  },
  "language_info": {
   "codemirror_mode": {
    "name": "ipython",
    "version": 3
   },
   "file_extension": ".py",
   "mimetype": "text/x-python",
   "name": "python",
   "nbconvert_exporter": "python",
   "pygments_lexer": "ipython3",
   "version": "3.10.15"
  }
 },
 "nbformat": 4,
 "nbformat_minor": 5
}
